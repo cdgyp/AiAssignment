{
 "cells": [
  {
   "attachments": {},
   "cell_type": "markdown",
   "metadata": {},
   "source": [
    "# 配置"
   ]
  },
  {
   "cell_type": "code",
   "execution_count": 1,
   "metadata": {},
   "outputs": [],
   "source": [
    "settings = {\n",
    "    \"width\": 256,\n",
    "    \"height\": 256,\n",
    "    'rotation_step': 30, # 旋转的粒度\n",
    "    'scale': 0.05, # 每个像素的大小，单位：米\n",
    "    'initial_grid': 1.0, # 枚举扫描位置时使用的初始间隔\n",
    "    'ignore': 0.20,\n",
    "    'threshold': 0.3,\n",
    "\n",
    "    # 数据集位置\n",
    "    \"dataset\": \"../hm3d_train/\",\n",
    "    \"dataset_config\": \"../hm3d_train/hm3d_annotated_train_basis.scene_dataset_config.json\", # Configuration of the dataset\n",
    "\n",
    "    # 类别信息存储位置\n",
    "    \"classes_json\": \"../topdown/train/classes.json\",\n",
    "\n",
    "    \"sensor_height\": 1.5,  # 传感器的高度，单位：米\n",
    "    \"enable_physics\": False, \n",
    "}"
   ]
  },
  {
   "attachments": {},
   "cell_type": "markdown",
   "metadata": {},
   "source": [
    "# 运行全部"
   ]
  },
  {
   "cell_type": "code",
   "execution_count": 2,
   "metadata": {},
   "outputs": [],
   "source": [
    "classes = set({})"
   ]
  },
  {
   "cell_type": "code",
   "execution_count": 3,
   "metadata": {},
   "outputs": [
    {
     "name": "stderr",
     "output_type": "stream",
     "text": [
      "/home/wzj/anaconda3/envs/habitat/lib/python3.7/site-packages/tqdm/auto.py:22: TqdmWarning: IProgress not found. Please update jupyter and ipywidgets. See https://ipywidgets.readthedocs.io/en/stable/user_install.html\n",
      "  from .autonotebook import tqdm as notebook_tqdm\n"
     ]
    }
   ],
   "source": [
    "import habitat_sim\n",
    "from utils import make_cfg\n",
    "\n",
    "def scene_classes(sim: habitat_sim.Simulator,scene_dir: str, scene_name: str=None):\n",
    "    global classes\n",
    "    scene_classes = set([obj.category.name() for obj in sim.semantic_scene.objects])\n",
    "    classes = classes.union(scene_classes)"
   ]
  },
  {
   "cell_type": "code",
   "execution_count": 7,
   "metadata": {},
   "outputs": [],
   "source": [
    "from utils import make_samples\n",
    "import json\n",
    "\n",
    "make_samples(settings, scene_classes)\n",
    "\n",
    "class_ids = {c: i for i, c in enumerate(sorted(list(classes)))}\n",
    "\n",
    "with open(settings['classes_json'], 'w') as f:\n",
    "    print(json.dumps({\"class_number\": len(class_ids), \"class_id\": class_ids}, indent=4), file=f)"
   ]
  }
 ],
 "metadata": {
  "kernelspec": {
   "display_name": "habitat",
   "language": "python",
   "name": "python3"
  },
  "language_info": {
   "codemirror_mode": {
    "name": "ipython",
    "version": 3
   },
   "file_extension": ".py",
   "mimetype": "text/x-python",
   "name": "python",
   "nbconvert_exporter": "python",
   "pygments_lexer": "ipython3",
   "version": "3.7.15"
  },
  "orig_nbformat": 4,
  "vscode": {
   "interpreter": {
    "hash": "ab258c8127595e7bcc65638ec3223783ec8b6f3f7de902030e2c0718ac7ad4f7"
   }
  }
 },
 "nbformat": 4,
 "nbformat_minor": 2
}
